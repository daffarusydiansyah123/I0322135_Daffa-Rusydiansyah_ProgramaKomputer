{
 "cells": [
  {
   "cell_type": "code",
   "execution_count": 25,
   "metadata": {},
   "outputs": [
    {
     "name": "stdout",
     "output_type": "stream",
     "text": [
      "Daffa Rusydiansyah\n",
      "I0322135\n",
      "D\n"
     ]
    }
   ],
   "source": [
    "print(input(\"Daffa Rusydiansyah: \"))\n",
    "print(input(\"I0322135: \"))\n",
    "print(input(\"D: \"))"
   ]
  },
  {
   "attachments": {},
   "cell_type": "markdown",
   "metadata": {},
   "source": [
    "## 1."
   ]
  },
  {
   "attachments": {},
   "cell_type": "markdown",
   "metadata": {},
   "source": [
    "diketahui dimensi sebuah aquarium tanpa penutup atas sebagai berikut:\n",
    "\n",
    "```python\n",
    "p = 11\n",
    "l = 1.99\n",
    "t = 25.87\n",
    "```\n",
    "buatkan program sederhana untuk menghitung diagonal tiap sisi dan luas permukaan aquarium tersebut tanpa menggunakan module math."
   ]
  },
  {
   "cell_type": "code",
   "execution_count": 1,
   "metadata": {},
   "outputs": [
    {
     "name": "stdout",
     "output_type": "stream",
     "text": [
      "======================\n",
      "jawaban no 1\n",
      "program perintah untuk menghitung diagonal sisi luas permukaan\n",
      "program kode yang akan saya tampilkan\n",
      "======================\n",
      "Penyelesaian diagonal tiap sisi aquarium\n",
      "   i, diagonal alas\n",
      "      = (p² + l²)^1/2\n",
      "      = (11² + 1,99²)^1/2\n",
      "      = 11.045361017187261\n",
      "\n",
      "   ii . diagonal sisi depan dan sisi belakang\n",
      "      = (p² + 002)^1/2\n",
      "      = (ll² + 25.87²)^1/2\n",
      "      = 28.11150831954771\n",
      "\n",
      "   iii. diagonal sisi kanan dan sisi kiri\n",
      "      = (l² + t²)^1/2\n",
      "      =(1.99² + 25.87²)^1/2\n",
      "      = 25.946425572706545\n",
      "\n",
      "luas permukaan aquarium\n",
      "      luper = (2*p*t) + (2*l*t) + (p*l)\n",
      "            = (2*11*25.87) + (2*1*99*25.87) + (11*1.99)\n",
      "            = 569.14 + 102.96260000000001 + 21.89\n",
      "            = 693.9926\n",
      "==========================\n"
     ]
    }
   ],
   "source": [
    "# 1. Program menghitung diagonal tiap sisi dan luas permukaan aquarium\n",
    "\n",
    "#input data\n",
    "Diketahui = 'p, l dan t'\n",
    "p = 11\n",
    "l = 1.99\n",
    "t = 25.87\n",
    "\n",
    "#output data\n",
    "print('======================')\n",
    "print('jawaban no 1')\n",
    "print('program perintah untuk menghitung diagonal sisi luas permukaan')\n",
    "print('program kode yang akan saya tampilkan')\n",
    "print('======================')\n",
    "\n",
    "print('Penyelesaian diagonal tiap sisi aquarium')\n",
    "diag_A = (p**2 + 1**2)**(1/2)\n",
    "diag_debe = (p**2 + t**2)**(1/2)\n",
    "diag_kaki = (l**2 + t**2)**(1/2)\n",
    "\n",
    "print('   i, diagonal alas')\n",
    "print('      = (p\\u00b2 + l\\u00b2)^1/2')\n",
    "print('      = (11\\u00b2 + 1,99\\u00b2)^1/2')\n",
    "print('      =', diag_A)\n",
    "print()\n",
    "print('   ii . diagonal sisi depan dan sisi belakang')\n",
    "print('      = (p\\u00b2 + t\\b002)^1/2')\n",
    "print('      = (ll\\u00b2 + 25.87\\u00b2)^1/2')\n",
    "print('      =', diag_debe)\n",
    "print()\n",
    "print('   iii. diagonal sisi kanan dan sisi kiri')\n",
    "print('      = (l\\u00b2 + t\\u00b2)^1/2')\n",
    "print('      =(1.99\\u00b2 + 25.87\\u00b2)^1/2')\n",
    "print('      =', diag_kaki)\n",
    "print()\n",
    "\n",
    "print('luas permukaan aquarium')\n",
    "alas = p * l\n",
    "debe = 2 * p * t\n",
    "kaki = 2 * l * t\n",
    "luper = alas + debe + kaki\n",
    "print('      luper =',  '(2*p*t)', '+', '(2*l*t)', '+', '(p*l)')\n",
    "print('            =', '(2*11*25.87)', '+', '(2*1*99*25.87)', '+', '(11*1.99)')\n",
    "print('            =', debe, '+', kaki, '+', alas)\n",
    "print('            =', luper)\n",
    "\n",
    "print('==========================')\n"
   ]
  },
  {
   "attachments": {},
   "cell_type": "markdown",
   "metadata": {},
   "source": [
    "## 2."
   ]
  },
  {
   "attachments": {},
   "cell_type": "markdown",
   "metadata": {},
   "source": [
    "diberikan data nilai mahasiswa sebagai berikut:"
   ]
  },
  {
   "cell_type": "code",
   "execution_count": 1,
   "metadata": {},
   "outputs": [],
   "source": [
    "nilai = {\n",
    "    'Frank': 80,\n",
    "    'Abagnale': 75,\n",
    "    'Cobb': 90,\n",
    "    'Andy Dufresne': 85,\n",
    "    'Ariadne': 70\n",
    "}"
   ]
  },
  {
   "attachments": {},
   "cell_type": "markdown",
   "metadata": {},
   "source": [
    "buatlah program sederhana untuk menghitung nilai rata-rata semua mahasiswa dan mencari siapa yang mendapatkan nilai tertinggi dan nilai terendah. \n",
    "> *note: tidak perlu menggunakan loops untuk membuat program nya*"
   ]
  },
  {
   "cell_type": "code",
   "execution_count": 4,
   "metadata": {},
   "outputs": [
    {
     "name": "stdout",
     "output_type": "stream",
     "text": [
      "==================\n",
      "Jawaban no 2\n",
      "Program untuk menghitung nilai rata-rata mahasiswa serta\n",
      "Mencari nilai tertinggi dan terendah\n",
      "kode yang akan saya tampilkan\n",
      "nilai rata-rata mahasiswa adalah = 80\n",
      "nilai tertinggi mahasiswa adalah = 90\n",
      "nilai terendah mahasiswa adalah = 70\n",
      "========================\n"
     ]
    }
   ],
   "source": [
    "#2.  Membuat program untuk menghitung nilai rata-rata mahasiswa dan mencari siapa yang mendapatkan nilai tertinggi dan terendah\n",
    "\n",
    "#input nilai\n",
    "nilai = {\n",
    "    'Frank': 80,\n",
    "    'Abagnale': 75,\n",
    "    'Cobb': 90,\n",
    "    'Andy Dufresne': 85,\n",
    "    'Ariadne': 70\n",
    "}\n",
    "#output data \n",
    "print('==================')\n",
    "print('Jawaban no 2')\n",
    "print('Program untuk menghitung nilai rata-rata mahasiswa serta')\n",
    "print('Mencari nilai tertinggi dan terendah')\n",
    "print('program kode yang akan saya tampilkan')\n",
    "\n",
    "import statistics\n",
    "\n",
    "nilai_mahasiswa = list(nilai.values())\n",
    "rata_rata = statistics.mean(nilai_mahasiswa)\n",
    "print('nilai rata-rata mahasiswa adalah =', rata_rata)\n",
    "\n",
    "\n",
    "nilai_maks = max(nilai_mahasiswa)\n",
    "print('nilai tertinggi mahasiswa adalah =', nilai_maks)\n",
    "nilai_minim = min(nilai_mahasiswa)\n",
    "print('nilai terendah mahasiswa adalah =', nilai_minim)\n",
    "\n",
    "print('========================')\n"
   ]
  },
  {
   "attachments": {},
   "cell_type": "markdown",
   "metadata": {},
   "source": [
    "## 3. "
   ]
  },
  {
   "attachments": {},
   "cell_type": "markdown",
   "metadata": {},
   "source": [
    "diberikan list aslab sebagai berikut:\n",
    "```python\n",
    "list_aslab = [\n",
    "    {\"nama\": \"Berlian Safri Prakoso\", \"nim\": \"I0320017\", \"kontak\": \"0858XXXXXXXX\"},\n",
    "    {\"nama\": \"Halidya Siti Hanifah\", \"nim\": \"I0320044\", \"kontak\": \"0878XXXXXXXX\"},\n",
    "    {\"nama\": \"Nurki Putra Mahardika\", \"nim\": \"I0320076\", \"kontak\": \"0877XXXXXXXX\"},\n",
    "    {\"nama\": \"Aji Manarul Aziz\", \"nim\": \"I0320119\", \"kontak\": \"0812XXXXXXXX\"},\n",
    "    {\"nama\": \"Alica Ayu Fitriani\", \"nim\": \"I0320121\", \"kontak\": \"0896XXXXXXXX\"},\n",
    "    {\"nama\": \"Dendy Halim Kusuma\", \"nim\": \"I0320125\", \"kontak\": \"0822XXXXXXXX\"}\n",
    "]\n",
    "```\n",
    "* **A** Tuliskan kode untuk mengakses informasi tentang \"nama\" dari semua aslab mulai dari index 1 sampai 5\n",
    "* **B** Tambahkan informasi berikut pada data aslab:\n",
    "```python\n",
    "    surel = [\"berlian@student.uns.ac.id\",\n",
    "          \"halidya@student.uns.ac.id\",\n",
    "          \"nurki@student.uns.ac.id\",\n",
    "          \"manarul@student.uns.ac.id\",\n",
    "          \"alica@student.uns.ac.id\",\n",
    "          \"dendy@student.uns.ac.id\"]\n",
    "```\n",
    "> *note: kalian hanya boleh menggunakan key-value pair yang disebutkan di dalam teks, tanpa menggunakan informasi tambahan yang diambil pada list yang ada*"
   ]
  },
  {
   "cell_type": "code",
   "execution_count": 6,
   "metadata": {},
   "outputs": [
    {
     "name": "stdout",
     "output_type": "stream",
     "text": [
      "==============================\n",
      "jawaban no 3.A\n",
      "untuk mengakses informasi tentang nama semua aslab mulai dari indeks 1 s/d 5\n",
      "program kode yang akan saya tampilkan\n",
      "Asisten laboratorium POSI ke 1 sebagai berikut, {'nama': 'Berlian Safri Prakoso', 'nim': 'I0320017', 'kontak': '0858XXXXXXXX'}\n",
      "Asisten laboratorium POSI ke 2 sebagai berikut, {'nama': 'Halidya Siti Hanifah', 'nim': 'I0320044', 'kontak': '0878XXXXXXXX'}\n",
      "Asisten laboratorium POSI ke 3 sebagai berikut, {'nama': 'Nurki Putra Mahardika', 'nim': 'I0320076', 'kontak': '0877XXXXXXXX'}\n",
      "Asisten laboratorium POSI ke 4 sebagai berikut, {'nama': 'Aji Manarul Aziz', 'nim': 'I0320119', 'kontak': '0812XXXXXXXX'}\n",
      "Asisten laboratorium POSI ke 5 sebagai berikut, {'nama': 'Alica Ayu Fitriani', 'nim': 'I0320121', 'kontak': '0896XXXXXXXX'}\n",
      "Asisten laboratorium POSI ke 6 sebagai berikut, {'nama': 'Dendy Halim Kusuma', 'nim': 'I0320125', 'kontak': '0822XXXXXXXX'}\n",
      "====================\n"
     ]
    }
   ],
   "source": [
    "# 3.A kode untuk mengakses informasi tentang \"nama\" dari semua aslab mulai dari index 1 sampai 5\n",
    "\n",
    "#input data \n",
    "list_aslab = [\n",
    "     {\"nama\": \"Berlian Safri Prakoso\", \"nim\": \"I0320017\", \"kontak\": \"0858XXXXXXXX\"},\n",
    "    {\"nama\": \"Halidya Siti Hanifah\", \"nim\": \"I0320044\", \"kontak\": \"0878XXXXXXXX\"},\n",
    "    {\"nama\": \"Nurki Putra Mahardika\", \"nim\": \"I0320076\", \"kontak\": \"0877XXXXXXXX\"},\n",
    "    {\"nama\": \"Aji Manarul Aziz\", \"nim\": \"I0320119\", \"kontak\": \"0812XXXXXXXX\"},\n",
    "    {\"nama\": \"Alica Ayu Fitriani\", \"nim\": \"I0320121\", \"kontak\": \"0896XXXXXXXX\"},\n",
    "    {\"nama\": \"Dendy Halim Kusuma\", \"nim\": \"I0320125\", \"kontak\": \"0822XXXXXXXX\"}\n",
    "]\n",
    "    \n",
    "#output data \n",
    "print('==============================')\n",
    "print('jawaban no 3.A')\n",
    "print('untuk mengakses informasi tentang nama semua aslab mulai dari indeks 1 s/d 5')\n",
    "print('program kode yang akan saya tampilkan')\n",
    "\n",
    "for i in range (0,len(list_aslab)):\n",
    "    print('Asisten laboratorium POSI ke', i+1, 'sebagai berikut,', list_aslab[i])\n",
    "\n",
    "print('====================')\n"
   ]
  },
  {
   "cell_type": "code",
   "execution_count": 5,
   "metadata": {},
   "outputs": [
    {
     "name": "stdout",
     "output_type": "stream",
     "text": [
      "=========================\n",
      "Jawaban no 3.B\n",
      "Untuk mengakses semua informasi nama aslab program kode yang akan ditampilkan\n",
      "Menambahkan informasi setiap alamat surel semua aslab\n",
      "Program kode yang akan saya tampilkan\n",
      "==========================\n",
      "Asisten laboratorium POSI ke 1 sebagai berikut, {'nama': 'Berlian Safri Prakoso', 'nim': 'I0320017', 'kontak': '0858XXXXXXXX', 'informasi tambahan': 'berlian@student.uns.ac.id'}\n",
      "Asisten laboratorium POSI ke 2 sebagai berikut, {'nama': 'Halidya Siti Hanifah', 'nim': 'I0320044', 'kontak': '0878XXXXXXXX', 'informasi tambahan': 'halidya@student.uns.ac.id'}\n",
      "Asisten laboratorium POSI ke 3 sebagai berikut, {'nama': 'Nurki Putra Mahardika', 'nim': 'I0320076', 'kontak': '0877XXXXXXXX', 'informasi tambahan': 'nurki@student.uns.ac.id'}\n",
      "Asisten laboratorium POSI ke 4 sebagai berikut, {'nama': 'Aji Manarul Aziz', 'nim': 'I0320119', 'kontak': '0812XXXXXXXX', 'informasi tambahan': 'manarul@student.uns.ac.id'}\n",
      "Asisten laboratorium POSI ke 5 sebagai berikut, {'nama': 'Alica Ayu Fitriani', 'nim': 'I0320121', 'kontak': '0896XXXXXXXX', 'informasi tambahan': 'alica@student.uns.ac.id'}\n",
      "Asisten laboratorium POSI ke 6 sebagai berikut, {'nama': 'Dendy Halim Kusuma', 'nim': 'I0320125', 'kontak': '0822XXXXXXXX', 'informasi tambahan': 'dendy@student.uns.ac.id'}\n",
      "==========================\n"
     ]
    }
   ],
   "source": [
    "#3.B menambahkan alamt surel\n",
    "\n",
    "#input data \n",
    "list_aslab = [\n",
    "    {\"nama\": \"Berlian Safri Prakoso\", \"nim\": \"I0320017\", \"kontak\": \"0858XXXXXXXX\"},\n",
    "    {\"nama\": \"Halidya Siti Hanifah\", \"nim\": \"I0320044\", \"kontak\": \"0878XXXXXXXX\"},\n",
    "    {\"nama\": \"Nurki Putra Mahardika\", \"nim\": \"I0320076\", \"kontak\": \"0877XXXXXXXX\"},\n",
    "    {\"nama\": \"Aji Manarul Aziz\", \"nim\": \"I0320119\", \"kontak\": \"0812XXXXXXXX\"},\n",
    "    {\"nama\": \"Alica Ayu Fitriani\", \"nim\": \"I0320121\", \"kontak\": \"0896XXXXXXXX\"},\n",
    "    {\"nama\": \"Dendy Halim Kusuma\", \"nim\": \"I0320125\", \"kontak\": \"0822XXXXXXXX\"}\n",
    "]\n",
    "surel = [\"berlian@student.uns.ac.id\",\n",
    "          \"halidya@student.uns.ac.id\",\n",
    "          \"nurki@student.uns.ac.id\",\n",
    "          \"manarul@student.uns.ac.id\",\n",
    "          \"alica@student.uns.ac.id\",\n",
    "          \"dendy@student.uns.ac.id\"]\n",
    "\n",
    "#output data \n",
    "print('=========================')\n",
    "print('Jawaban no 3.B')\n",
    "print('Untuk mengakses semua informasi nama aslab program kode yang akan ditampilkan')\n",
    "print('Menambahkan informasi setiap alamat surel semua aslab')\n",
    "print('Program kode yang akan saya tampilkan')\n",
    "print('==========================')\n",
    "\n",
    "for i in range (0, len(list_aslab)):\n",
    "    list_aslab[i].update({'informasi tambahan': surel[i]})\n",
    "    print('Asisten laboratorium POSI ke', i+1, 'sebagai berikut,', list_aslab[i])\n",
    "\n",
    "print('==========================')\n",
    "\n"
   ]
  }
 ],
 "metadata": {
  "kernelspec": {
   "display_name": "Python 3",
   "language": "python",
   "name": "python3"
  },
  "language_info": {
   "codemirror_mode": {
    "name": "ipython",
    "version": 3
   },
   "file_extension": ".py",
   "mimetype": "text/x-python",
   "name": "python",
   "nbconvert_exporter": "python",
   "pygments_lexer": "ipython3",
   "version": "3.10.7"
  },
  "orig_nbformat": 4,
  "vscode": {
   "interpreter": {
    "hash": "5addf786bcd861d1ce5006f23111f8cbb206731e5b61b0a5632ba9e0252558a8"
   }
  }
 },
 "nbformat": 4,
 "nbformat_minor": 2
}
