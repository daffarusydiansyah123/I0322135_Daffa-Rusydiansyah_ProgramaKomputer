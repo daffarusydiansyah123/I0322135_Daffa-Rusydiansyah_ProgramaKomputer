{
 "cells": [
  {
   "cell_type": "code",
   "execution_count": 26,
   "metadata": {},
   "outputs": [
    {
     "name": "stdout",
     "output_type": "stream",
     "text": [
      "Fungsi matrix berdasarkan input dari user\n"
     ]
    },
    {
     "data": {
      "text/plain": [
       "[[7, 9, 6], [8, 1, 3]]"
      ]
     },
     "execution_count": 26,
     "metadata": {},
     "output_type": "execute_result"
    }
   ],
   "source": [
    "#Buatlah sebuah fungsi untuk membuat matrix berdasarkan input dari user\n",
    "print(\"Fungsi matrix berdasarkan input dari user\")\n",
    "\n",
    "#Tulis kode kamu disini\n",
    "def create_matrix(baris,kolom):\n",
    "    matrix = []\n",
    "    for k in range(baris):\n",
    "        baris_matrix = []\n",
    "        for p in range(kolom):\n",
    "            element = int(input(f\"Masukan element matrix[{k}][{p}] :\"))\n",
    "            baris_matrix.append(element)\n",
    "        matrix.append(baris_matrix)\n",
    "    return matrix\n",
    "\n",
    "baris = int(input('Masukkan Jumlah Baris:\\t'))\n",
    "kolom = int(input('Masukkan Jumlah Kolom:\\t'))\n",
    "create_matrix(baris,kolom)\n"
   ]
  },
  {
   "cell_type": "code",
   "execution_count": 38,
   "metadata": {},
   "outputs": [
    {
     "name": "stdout",
     "output_type": "stream",
     "text": [
      "matrix   :\n",
      " [[5.0, 4.0, 7.0], [8.0, 9.0, 1.0], [2.0, 4.0, 3.0]]\n",
      "\n",
      "invers   :\n",
      " [[ 0.184  0.128 -0.472]\n",
      " [-0.176  0.008  0.408]\n",
      " [ 0.112 -0.096  0.104]]\n"
     ]
    }
   ],
   "source": [
    "#Buatlah sebuah fungsi untuk mencari invers matrix berdasarkan input matrix dari user\n",
    "\n",
    "import numpy as np \n",
    "\n",
    "#Tulis kode kamu disini\n",
    "\n",
    "def create_matrix():\n",
    "    baris = int(input(\"masukan jumlah baris :\"))\n",
    "    kolom = int(input(\"masukan jumlah kolom :\"))\n",
    "    matrix = []\n",
    "\n",
    "    for x in range(baris):\n",
    "        barismatrix = []\n",
    "        for y in range(kolom):\n",
    "            element = float(input(f\"masukan element matrix [{x}] [{y}] : \"))\n",
    "            barismatrix.append(element)\n",
    "        matrix.append(barismatrix)\n",
    "    return matrix\n",
    "\n",
    "def invers(matrix):\n",
    "    try:\n",
    "        invers_matrix = np.linalg.inv(matrix)\n",
    "        return invers_matrix\n",
    "    except np.linalg.LinAlgError:\n",
    "        return \"invers matrix tidak ditemukan \"\n",
    "\n",
    "matrix = create_matrix()\n",
    "invers_matrix = invers(matrix)\n",
    "print(\"matrix   :\\n\", matrix)\n",
    "print()\n",
    "print(\"invers   :\\n\", invers_matrix)\n"
   ]
  },
  {
   "cell_type": "code",
   "execution_count": 28,
   "metadata": {},
   "outputs": [
    {
     "name": "stdout",
     "output_type": "stream",
     "text": [
      "[[1.5, 2.5, 4.5], [3.0, 3.5, 2.0], [2.5, 0.5, 4.5]]\n"
     ]
    }
   ],
   "source": [
    "#Buatlah Fungsi untuk melakukan pembagian matrix antar matrix berdasarkan input user menggunakan nested loop\n",
    "\n",
    "def bagi_matrix(matrix1, skalar):\n",
    "    hasil = []\n",
    "\n",
    "#Tulis kode kamu disini\n",
    "return hasil\n",
    "\n",
    "\n",
    "def bagi_matrix(matrix1, skalar):\n",
    "    hasil = []\n",
    "    for x in range(len(matrix1)):\n",
    "        row = []\n",
    "        for y in range(len(matrix1[0])):\n",
    "            fungsi = matrix1[x] [y] / skalar\n",
    "            row.append(fungsi)\n",
    "        hasil.append(row)\n",
    "    return hasil\n",
    "matrix1 = [[3,5,9], [6,7,4], [5,1,9]]\n",
    "skalar = int(input('Matrix dibagi berapa?\\t'))\n",
    "\n",
    "\n",
    "hasil_bagi = bagi_matrix(matrix1, skalar)\n",
    "print(hasil_bagi)"
   ]
  }
 ],
 "metadata": {
  "kernelspec": {
   "display_name": "Python 3",
   "language": "python",
   "name": "python3"
  },
  "language_info": {
   "codemirror_mode": {
    "name": "ipython",
    "version": 3
   },
   "file_extension": ".py",
   "mimetype": "text/x-python",
   "name": "python",
   "nbconvert_exporter": "python",
   "pygments_lexer": "ipython3",
   "version": "3.10.7"
  },
  "orig_nbformat": 4
 },
 "nbformat": 4,
 "nbformat_minor": 2
}
