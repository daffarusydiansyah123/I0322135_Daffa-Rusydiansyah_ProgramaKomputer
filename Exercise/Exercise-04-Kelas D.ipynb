{
 "cells": [
  {
   "cell_type": "code",
   "execution_count": 2,
   "metadata": {},
   "outputs": [
    {
     "name": "stdout",
     "output_type": "stream",
     "text": [
      "Daffa Rusydiansyah\n",
      "I0322135\n",
      "D\n"
     ]
    }
   ],
   "source": [
    "print(input(\"Daffa Rusydiansyah : \"))\n",
    "print(input(\"I0322135: \"))\n",
    "print(input(\"D: \"))"
   ]
  },
  {
   "attachments": {},
   "cell_type": "markdown",
   "metadata": {},
   "source": [
    "## 1."
   ]
  },
  {
   "attachments": {},
   "cell_type": "markdown",
   "metadata": {},
   "source": [
    "Buatlah program yang menampilkan salam “Selamat Pagi” dari berbagai negara {Inggris, Perancis, Italia, Spanyol, Jepang, Korea} dengan dua input dari user yaitu bahasa dan diikuti nama user.<br>\n",
    "<br>Ex : \n",
    "<br>\"Ohayou, Onii Chan\"\n",
    "> *note: Kerjakan soal ini dengan percabangan*"
   ]
  },
  {
   "cell_type": "code",
   "execution_count": 4,
   "metadata": {},
   "outputs": [
    {
     "name": "stdout",
     "output_type": "stream",
     "text": [
      "bonjour Daffa Rusydiansyah\n"
     ]
    }
   ],
   "source": [
    "# Kerjakan soal nomor 1 disini\n",
    "\n",
    "# Menampilkan salam \n",
    "\n",
    "inggris = \"good morning\"\n",
    "perancis = \"bonjour\"\n",
    "italia = \"buongiorno\"\n",
    "spanyol = \"Buen día\"\n",
    "jepang = \"おはよう\"\n",
    "korea = \"좋은 아침이에요\"\n",
    "\n",
    "bahasa = str.lower(input('hallo kamu mau diucapkan selamat pagi dalam bahasa apa? inggris, perancis, italia, spanyol, jepang, korea =' ))\n",
    "nama = str(input('siapa nama kamu ='))\n",
    "\n",
    "if bahasa == 'inggris':\n",
    "    print('good morning', nama)\n",
    "elif bahasa == 'perancis':\n",
    "    print('bonjour', nama)\n",
    "elif bahasa == 'italia':\n",
    "    print('buongiorno', nama)\n",
    "elif bahasa == 'spanyol':\n",
    "    print('Buen día', nama)\n",
    "elif bahasa == 'jepang':\n",
    "    print('おはよう', nama)\n",
    "elif bahasa == 'korea':\n",
    "    print('좋은 아침이에요')\n",
    "\n"
   ]
  },
  {
   "attachments": {},
   "cell_type": "markdown",
   "metadata": {},
   "source": [
    "## 2."
   ]
  },
  {
   "attachments": {},
   "cell_type": "markdown",
   "metadata": {},
   "source": [
    "Buatlah program perhitungan umur dengan menggunakan input user yaitu tahun lahir dari user.<br>\n",
    "<br>Output yang dihasilkan adalah sebagai berikut:\n",
    "<br>\"Apakah anda berasal dari masa depan?\"\n",
    "<br>\"Anda barusaja lahir\"\n",
    "<br>\"Umur Anda adalah xx tahun\"\n",
    "> *note: Kerjakan soal ini dengan percabangan*"
   ]
  },
  {
   "cell_type": "code",
   "execution_count": 15,
   "metadata": {},
   "outputs": [
    {
     "name": "stdout",
     "output_type": "stream",
     "text": [
      "umur anda adalah 19 tahun\n"
     ]
    }
   ],
   "source": [
    "# Kerjakan soal nomor 2 disini\n",
    "\n",
    "tahun = int(input('pada tahun berapa anda lahir ?'))\n",
    "\n",
    "if (tahun > 2023):\n",
    "    print('apakah anda berasal dari masa depan?')\n",
    "elif (tahun == 2023):\n",
    "    print('anda baru saja lahir')\n",
    "elif (tahun < 2023):\n",
    "    print('umur anda adalah', 2023-tahun,'tahun')"
   ]
  }
 ],
 "metadata": {
  "kernelspec": {
   "display_name": "Python 3",
   "language": "python",
   "name": "python3"
  },
  "language_info": {
   "codemirror_mode": {
    "name": "ipython",
    "version": 3
   },
   "file_extension": ".py",
   "mimetype": "text/x-python",
   "name": "python",
   "nbconvert_exporter": "python",
   "pygments_lexer": "ipython3",
   "version": "3.10.7"
  },
  "orig_nbformat": 4
 },
 "nbformat": 4,
 "nbformat_minor": 2
}
