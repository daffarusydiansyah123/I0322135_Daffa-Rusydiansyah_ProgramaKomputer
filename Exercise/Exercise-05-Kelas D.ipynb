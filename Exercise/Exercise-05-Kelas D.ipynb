{
 "cells": [
  {
   "attachments": {},
   "cell_type": "markdown",
   "metadata": {},
   "source": [
    "1. Buatlah program pemanggilan angka secara descending menggunakan pengulangan dari angka 50 hingga 0!"
   ]
  },
  {
   "cell_type": "code",
   "execution_count": 1,
   "metadata": {},
   "outputs": [
    {
     "name": "stdout",
     "output_type": "stream",
     "text": [
      "50.49.48.47.46.45.44.43.42.41.40.39.38.37.36.35.34.33.32.31.30.29.28.27.26.25.24.23.22.21.20.19.18.17.16.15.14.13.12.11.10.9.8.7.6.5.4.3.2.1.0,"
     ]
    }
   ],
   "source": [
    "# kerjakan nomor 1 di sini\n",
    "for i in range(50,-1,-1):\n",
    "    if i == 0:\n",
    "        print(i, end=',')\n",
    "    else:\n",
    "        print(i, end='.')"
   ]
  },
  {
   "attachments": {},
   "cell_type": "markdown",
   "metadata": {},
   "source": [
    "2. Buatlah sebuah list yang berisi kota-kota yang ada di indonesia (minimal 10, salah satunya kota asal kalian), kemudian buat pengulangan yang menampilkan isi-isi dalam list tersebut, jika salah satu kota menunjukkan kota asal kalian maka tambahkan output \"kota X adalah kampung halaman saya\" (program tetap lanjut)"
   ]
  },
  {
   "cell_type": "code",
   "execution_count": 2,
   "metadata": {},
   "outputs": [
    {
     "name": "stdout",
     "output_type": "stream",
     "text": [
      "kota Kediri\n",
      "kota Brebes\n",
      "kota Banyuwangi\n",
      "kota Purwokerto\n",
      "kota Kebumen adalah kota asal saya\n",
      "kota Kendal\n",
      "kota Pemalang\n",
      "kota Cirebon\n",
      "kota Tangerang\n",
      "kota Banten\n",
      "kota Sleman\n",
      "kota Demak\n"
     ]
    }
   ],
   "source": [
    "# Kerjakan nomor 2 di sini\n",
    "list_kota = ['Kediri', 'Brebes', 'Banyuwangi', 'Purwokerto', 'Kebumen', 'Kendal', 'Pemalang', 'Cirebon', 'Tangerang', 'Banten', 'Sleman', 'Demak']\n",
    "\n",
    "for i in list_kota:\n",
    "    if i == 'Kebumen':\n",
    "        print(f'kota {i} adalah kota asal saya')\n",
    "    else:\n",
    "        print('kota', i)\n",
    "\n",
    "\n",
    "   \n"
   ]
  },
  {
   "attachments": {},
   "cell_type": "markdown",
   "metadata": {},
   "source": [
    "3. Disajikan list sebagai berikut"
   ]
  },
  {
   "cell_type": "code",
   "execution_count": null,
   "metadata": {},
   "outputs": [],
   "source": [
    "hari = ['senin', 'selasa','rabu','kamis','jumat','sabtu', 'minggu']\n",
    "menu_sahur = ['soto','pecel lele', 'ayam goreng', 'sayur sop', 'rendang','telur balado']"
   ]
  },
  {
   "attachments": {},
   "cell_type": "markdown",
   "metadata": {},
   "source": [
    "Abdul adalah seorang mahasiswa semester 2. Selama satu minggu ia membuat daftar menu sahur yang dia makan selama seminggu yang lalu. dengan catatan hari kamis Abdul ketiduran sehingga dia tidak sahur. Berdasarkan kasus tersebut buatlah program pengulangannya!"
   ]
  },
  {
   "cell_type": "code",
   "execution_count": 3,
   "metadata": {},
   "outputs": [
    {
     "name": "stdout",
     "output_type": "stream",
     "text": [
      "\n",
      "        menu sahur Abdul\n",
      "        hari senin : soto\n",
      "\n",
      "        menu sahur Abdul\n",
      "        hari selasa : pecel lele\n",
      "\n",
      "        menu sahur Abdul\n",
      "        hari rabu : ayam goreng\n",
      "\n",
      "        hari Kamis Abdul ketiduran sehingga ia tidak sahur\n",
      "\n",
      "        menu sahur Abdul\n",
      "        hari jumat : rendang\n",
      "\n",
      "        menu sahur Abdul\n",
      "        hari sabtu : telur balado\n"
     ]
    }
   ],
   "source": [
    "# kerjakan nomor 3 di sini\n",
    "hari = ['senin', 'selasa','rabu','kamis','jumat','sabtu', 'minggu']\n",
    "menu_sahur = ['soto','pecel lele', 'ayam goreng', 'sayur sop', 'rendang','telur balado']\n",
    "\n",
    "for i in range(6):\n",
    "    if i == 3:\n",
    "        print(f'''\n",
    "        hari Kamis Abdul ketiduran sehingga ia tidak sahur''')\n",
    "    else:\n",
    "        print(f'''\n",
    "        menu sahur Abdul\n",
    "        hari {hari[i]} : {menu_sahur[i]}''')"
   ]
  }
 ],
 "metadata": {
  "kernelspec": {
   "display_name": "Python 3",
   "language": "python",
   "name": "python3"
  },
  "language_info": {
   "codemirror_mode": {
    "name": "ipython",
    "version": 3
   },
   "file_extension": ".py",
   "mimetype": "text/x-python",
   "name": "python",
   "nbconvert_exporter": "python",
   "pygments_lexer": "ipython3",
   "version": "3.10.7"
  },
  "orig_nbformat": 4
 },
 "nbformat": 4,
 "nbformat_minor": 2
}
